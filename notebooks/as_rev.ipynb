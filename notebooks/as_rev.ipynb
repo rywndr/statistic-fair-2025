{
  "nbformat": 4,
  "nbformat_minor": 0,
  "metadata": {
    "colab": {
      "provenance": []
    },
    "kernelspec": {
      "name": "python3",
      "display_name": "Python 3"
    },
    "language_info": {
      "name": "python"
    }
  },
  "cells": [
    {
      "cell_type": "markdown",
      "source": [
        "## Install Required Libraries"
      ],
      "metadata": {
        "id": "yUG2am3-f2qU"
      }
    },
    {
      "cell_type": "code",
      "source": [
        "!pip install app_store_scraper"
      ],
      "metadata": {
        "colab": {
          "base_uri": "https://localhost:8080/"
        },
        "id": "Qe4GeTAlf3_6",
        "outputId": "b85460ed-cdd6-4545-fdac-5d7d31b1759c"
      },
      "execution_count": 1,
      "outputs": [
        {
          "output_type": "stream",
          "name": "stdout",
          "text": [
            "Collecting app_store_scraper\n",
            "  Downloading app_store_scraper-0.3.5-py3-none-any.whl.metadata (5.1 kB)\n",
            "Collecting requests==2.23.0 (from app_store_scraper)\n",
            "  Downloading requests-2.23.0-py2.py3-none-any.whl.metadata (6.8 kB)\n",
            "Collecting chardet<4,>=3.0.2 (from requests==2.23.0->app_store_scraper)\n",
            "  Downloading chardet-3.0.4-py2.py3-none-any.whl.metadata (3.2 kB)\n",
            "Collecting idna<3,>=2.5 (from requests==2.23.0->app_store_scraper)\n",
            "  Downloading idna-2.10-py2.py3-none-any.whl.metadata (9.1 kB)\n",
            "Collecting urllib3!=1.25.0,!=1.25.1,<1.26,>=1.21.1 (from requests==2.23.0->app_store_scraper)\n",
            "  Downloading urllib3-1.25.11-py2.py3-none-any.whl.metadata (41 kB)\n",
            "\u001b[2K     \u001b[90m━━━━━━━━━━━━━━━━━━━━━━━━━━━━━━━━━━━━━━━━\u001b[0m \u001b[32m41.1/41.1 kB\u001b[0m \u001b[31m1.7 MB/s\u001b[0m eta \u001b[36m0:00:00\u001b[0m\n",
            "\u001b[?25hRequirement already satisfied: certifi>=2017.4.17 in /usr/local/lib/python3.10/dist-packages (from requests==2.23.0->app_store_scraper) (2024.8.30)\n",
            "Downloading app_store_scraper-0.3.5-py3-none-any.whl (8.3 kB)\n",
            "Downloading requests-2.23.0-py2.py3-none-any.whl (58 kB)\n",
            "\u001b[2K   \u001b[90m━━━━━━━━━━━━━━━━━━━━━━━━━━━━━━━━━━━━━━━━\u001b[0m \u001b[32m58.4/58.4 kB\u001b[0m \u001b[31m3.9 MB/s\u001b[0m eta \u001b[36m0:00:00\u001b[0m\n",
            "\u001b[?25hDownloading chardet-3.0.4-py2.py3-none-any.whl (133 kB)\n",
            "\u001b[2K   \u001b[90m━━━━━━━━━━━━━━━━━━━━━━━━━━━━━━━━━━━━━━━━\u001b[0m \u001b[32m133.4/133.4 kB\u001b[0m \u001b[31m6.1 MB/s\u001b[0m eta \u001b[36m0:00:00\u001b[0m\n",
            "\u001b[?25hDownloading idna-2.10-py2.py3-none-any.whl (58 kB)\n",
            "\u001b[2K   \u001b[90m━━━━━━━━━━━━━━━━━━━━━━━━━━━━━━━━━━━━━━━━\u001b[0m \u001b[32m58.8/58.8 kB\u001b[0m \u001b[31m3.4 MB/s\u001b[0m eta \u001b[36m0:00:00\u001b[0m\n",
            "\u001b[?25hDownloading urllib3-1.25.11-py2.py3-none-any.whl (127 kB)\n",
            "\u001b[2K   \u001b[90m━━━━━━━━━━━━━━━━━━━━━━━━━━━━━━━━━━━━━━━━\u001b[0m \u001b[32m128.0/128.0 kB\u001b[0m \u001b[31m9.7 MB/s\u001b[0m eta \u001b[36m0:00:00\u001b[0m\n",
            "\u001b[?25hInstalling collected packages: chardet, urllib3, idna, requests, app_store_scraper\n",
            "  Attempting uninstall: chardet\n",
            "    Found existing installation: chardet 5.2.0\n",
            "    Uninstalling chardet-5.2.0:\n",
            "      Successfully uninstalled chardet-5.2.0\n",
            "  Attempting uninstall: urllib3\n",
            "    Found existing installation: urllib3 2.2.3\n",
            "    Uninstalling urllib3-2.2.3:\n",
            "      Successfully uninstalled urllib3-2.2.3\n",
            "  Attempting uninstall: idna\n",
            "    Found existing installation: idna 3.10\n",
            "    Uninstalling idna-3.10:\n",
            "      Successfully uninstalled idna-3.10\n",
            "  Attempting uninstall: requests\n",
            "    Found existing installation: requests 2.32.3\n",
            "    Uninstalling requests-2.32.3:\n",
            "      Successfully uninstalled requests-2.32.3\n",
            "\u001b[31mERROR: pip's dependency resolver does not currently take into account all the packages that are installed. This behaviour is the source of the following dependency conflicts.\n",
            "bigframes 1.27.0 requires requests>=2.27.1, but you have requests 2.23.0 which is incompatible.\n",
            "google-colab 1.0.0 requires requests==2.32.3, but you have requests 2.23.0 which is incompatible.\n",
            "sentry-sdk 2.19.0 requires urllib3>=1.26.11, but you have urllib3 1.25.11 which is incompatible.\n",
            "sphinx 8.1.3 requires requests>=2.30.0, but you have requests 2.23.0 which is incompatible.\n",
            "tweepy 4.14.0 requires requests<3,>=2.27.0, but you have requests 2.23.0 which is incompatible.\n",
            "yfinance 0.2.50 requires requests>=2.31, but you have requests 2.23.0 which is incompatible.\u001b[0m\u001b[31m\n",
            "\u001b[0mSuccessfully installed app_store_scraper-0.3.5 chardet-3.0.4 idna-2.10 requests-2.23.0 urllib3-1.25.11\n"
          ]
        }
      ]
    },
    {
      "cell_type": "markdown",
      "source": [
        "## Import Libraries"
      ],
      "metadata": {
        "id": "MjPhA0B-f-dK"
      }
    },
    {
      "cell_type": "code",
      "source": [
        "import pandas as pd\n",
        "from app_store_scraper import AppStore\n",
        "import unicodedata"
      ],
      "metadata": {
        "id": "0WzHvQ_Lf5es"
      },
      "execution_count": 2,
      "outputs": []
    },
    {
      "cell_type": "markdown",
      "source": [
        "## Define Constants Vars"
      ],
      "metadata": {
        "id": "S2FRvq3CgLWD"
      }
    },
    {
      "cell_type": "code",
      "source": [
        "# Define constants for country, app name, and app ID\n",
        "# Change the COUNTRY_CODE, APP_NAME, and APP_ID depending on use case\n",
        "# refer to https://github.com/cowboy-bebug/app-store-scraper/blob/master/README.md for more complete docs\n",
        "\n",
        "COUNTRY_CODE = 'id'\n",
        "APP_NAME = 'identitas-kependudukan-digital'\n",
        "APP_ID = '6448944056'"
      ],
      "metadata": {
        "id": "o5wHOw4hgAF1"
      },
      "execution_count": 3,
      "outputs": []
    },
    {
      "cell_type": "markdown",
      "source": [
        "## Function to get the reviews from the App Store"
      ],
      "metadata": {
        "id": "UtheTveehaiz"
      }
    },
    {
      "cell_type": "code",
      "source": [
        "def fetch_reviews(country=COUNTRY_CODE, app_name=APP_NAME, app_id=APP_ID):\n",
        "    \"\"\"\n",
        "    Fetch reviews from the App Store.\n",
        "\n",
        "    Parameters:\n",
        "    country (str): Country code\n",
        "    app_name (str): App name\n",
        "    app_id (str): App ID\n",
        "\n",
        "    Returns:\n",
        "    list: List of reviews\n",
        "    \"\"\"\n",
        "    try:\n",
        "        scraper = AppStore(country=country, app_name=app_name, app_id=app_id)\n",
        "\n",
        "        # scraper.review(how_many = 90)\n",
        "\n",
        "        # Comment out the code below and uncomment the code above to specify how many reviews to fetch (only works in 20 increments. e.g 40, 60, etc)\n",
        "        scraper.review()\n",
        "\n",
        "        return scraper.reviews\n",
        "    except Exception as e:\n",
        "        print(f\"Error fetching reviews: {e}\")\n",
        "        return None"
      ],
      "metadata": {
        "id": "FaHOcNbghYWu"
      },
      "execution_count": 6,
      "outputs": []
    },
    {
      "cell_type": "markdown",
      "source": [
        "## Function to tidy up the fetched reviews"
      ],
      "metadata": {
        "id": "6IlyPXh5hr7c"
      }
    },
    {
      "cell_type": "code",
      "source": [
        "def tidy_reviews(reviews):\n",
        "    \"\"\"\n",
        "    Tidy reviews by selecting relevant columns.\n",
        "\n",
        "    Parameters:\n",
        "    reviews (list): List of reviews\n",
        "\n",
        "    Returns:\n",
        "    pd.DataFrame: Tidied reviews\n",
        "    \"\"\"\n",
        "    df = pd.DataFrame(reviews)\n",
        "    cleaned_df = df[['userName', 'rating', 'review', 'date']]\n",
        "    return cleaned_df"
      ],
      "metadata": {
        "id": "ku-Z6mDEht7d"
      },
      "execution_count": 7,
      "outputs": []
    },
    {
      "cell_type": "markdown",
      "source": [
        "## Funtion to clean the fetched reviews"
      ],
      "metadata": {
        "id": "oymWCEfphy_s"
      }
    },
    {
      "cell_type": "code",
      "source": [
        "def clean_text(text):\n",
        "    \"\"\"\n",
        "    Clean text data by removing accents, non-ASCII characters, and special characters.\n",
        "\n",
        "    Parameters:\n",
        "    text (str): Text data to be cleaned\n",
        "\n",
        "    Returns:\n",
        "    str: Cleaned text data\n",
        "    \"\"\"\n",
        "    # Normalize text and remove accents and non-ASCII characters\n",
        "    text = unicodedata.normalize('NFKD', text)\n",
        "    # Remove non-ASCII characters\n",
        "    text = text.encode('ascii', 'ignore').decode('utf-8')\n",
        "    # Remove special characters\n",
        "    text = text.replace('\\n', ' ').replace('\\r', ' ')\n",
        "    return text"
      ],
      "metadata": {
        "id": "B4mQR9Z8hxmL"
      },
      "execution_count": 8,
      "outputs": []
    },
    {
      "cell_type": "markdown",
      "source": [
        "## Function to export the dataframe to a csv file"
      ],
      "metadata": {
        "id": "tWXMo6G7h8Na"
      }
    },
    {
      "cell_type": "code",
      "source": [
        "# Define a function to export the DataFrame to a CSV file\n",
        "def export_to_csv(df, filename):\n",
        "    \"\"\"\n",
        "    Export the DataFrame to a CSV file.\n",
        "\n",
        "    Parameters:\n",
        "    df (pd.DataFrame): DataFrame to be exported\n",
        "    filename (str): Name of the CSV file\n",
        "\n",
        "    Returns:\n",
        "    None\n",
        "    \"\"\"\n",
        "    try:\n",
        "        df.to_csv(filename, index=False, sep=';')\n",
        "        print(f\"DataFrame exported to {filename} successfully.\")\n",
        "    except Exception as e:\n",
        "        print(f\"Error exporting DataFrame to {filename}: {e}\")"
      ],
      "metadata": {
        "id": "W4eWXQ8Sh6Zv"
      },
      "execution_count": 9,
      "outputs": []
    },
    {
      "cell_type": "markdown",
      "source": [
        "## Fetch and tidy the reviews"
      ],
      "metadata": {
        "id": "FK7eKX52iHXq"
      }
    },
    {
      "cell_type": "code",
      "source": [
        "# Fetch reviews from the App Store\n",
        "reviews = fetch_reviews()\n",
        "\n",
        "# Tidy reviews\n",
        "tidied_reviews = tidy_reviews(reviews)\n",
        "\n",
        "# Uncomment the code below to display the fetched reviews\n",
        "# tidied_reviews"
      ],
      "metadata": {
        "id": "WsZCETptiCMK"
      },
      "execution_count": 11,
      "outputs": []
    },
    {
      "cell_type": "markdown",
      "source": [
        "## Clean Text Data and Rename Columns"
      ],
      "metadata": {
        "id": "v64PxJJsiM2L"
      }
    },
    {
      "cell_type": "code",
      "source": [
        "# Clean text data\n",
        "tidied_reviews.loc[:, 'review'] = tidied_reviews['review'].apply(clean_text)\n",
        "\n",
        "# Rename columns for better readability\n",
        "tidied_reviews.columns = ['User Name', 'Rating', 'Review', 'Waktu Upload']"
      ],
      "metadata": {
        "id": "UmP961YhiLf0"
      },
      "execution_count": 12,
      "outputs": []
    },
    {
      "cell_type": "markdown",
      "source": [
        "## Export to CSV"
      ],
      "metadata": {
        "id": "0fCMhWJhiS9u"
      }
    },
    {
      "cell_type": "code",
      "source": [
        "# Export the tidied reviews to a CSV file\n",
        "export_to_csv(tidied_reviews, 'Apple_App_Store_Reviews.csv')"
      ],
      "metadata": {
        "colab": {
          "base_uri": "https://localhost:8080/"
        },
        "id": "kTivqplriO3U",
        "outputId": "61b6a6d9-82d7-44a1-8bf0-6d5bc8be9726"
      },
      "execution_count": 13,
      "outputs": [
        {
          "output_type": "stream",
          "name": "stdout",
          "text": [
            "DataFrame exported to Apple_App_Store_Reviews.csv successfully.\n"
          ]
        }
      ]
    },
    {
      "cell_type": "code",
      "source": [],
      "metadata": {
        "id": "Y-wrblMCiRWh"
      },
      "execution_count": null,
      "outputs": []
    }
  ]
}