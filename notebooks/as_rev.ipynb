{
  "nbformat": 4,
  "nbformat_minor": 0,
  "metadata": {
    "colab": {
      "provenance": []
    },
    "kernelspec": {
      "name": "python3",
      "display_name": "Python 3"
    },
    "language_info": {
      "name": "python"
    }
  },
  "cells": [
    {
      "cell_type": "markdown",
      "source": [
        "## Install Required Libraries"
      ],
      "metadata": {
        "id": "yUG2am3-f2qU"
      }
    },
    {
      "cell_type": "code",
      "source": [
        "!pip install app_store_scraper"
      ],
      "metadata": {
        "colab": {
          "base_uri": "https://localhost:8080/"
        },
        "id": "Qe4GeTAlf3_6",
        "outputId": "1cd79671-52f2-4617-bab8-2545782eb6d0"
      },
      "execution_count": 2,
      "outputs": [
        {
          "output_type": "stream",
          "name": "stdout",
          "text": [
            "Collecting app_store_scraper\n",
            "  Downloading app_store_scraper-0.3.5-py3-none-any.whl.metadata (5.1 kB)\n",
            "Collecting requests==2.23.0 (from app_store_scraper)\n",
            "  Downloading requests-2.23.0-py2.py3-none-any.whl.metadata (6.8 kB)\n",
            "Collecting chardet<4,>=3.0.2 (from requests==2.23.0->app_store_scraper)\n",
            "  Downloading chardet-3.0.4-py2.py3-none-any.whl.metadata (3.2 kB)\n",
            "Collecting idna<3,>=2.5 (from requests==2.23.0->app_store_scraper)\n",
            "  Downloading idna-2.10-py2.py3-none-any.whl.metadata (9.1 kB)\n",
            "Collecting urllib3!=1.25.0,!=1.25.1,<1.26,>=1.21.1 (from requests==2.23.0->app_store_scraper)\n",
            "  Downloading urllib3-1.25.11-py2.py3-none-any.whl.metadata (41 kB)\n",
            "\u001b[2K     \u001b[90m━━━━━━━━━━━━━━━━━━━━━━━━━━━━━━━━━━━━━━━━\u001b[0m \u001b[32m41.1/41.1 kB\u001b[0m \u001b[31m2.6 MB/s\u001b[0m eta \u001b[36m0:00:00\u001b[0m\n",
            "\u001b[?25hRequirement already satisfied: certifi>=2017.4.17 in /usr/local/lib/python3.10/dist-packages (from requests==2.23.0->app_store_scraper) (2024.8.30)\n",
            "Downloading app_store_scraper-0.3.5-py3-none-any.whl (8.3 kB)\n",
            "Downloading requests-2.23.0-py2.py3-none-any.whl (58 kB)\n",
            "\u001b[2K   \u001b[90m━━━━━━━━━━━━━━━━━━━━━━━━━━━━━━━━━━━━━━━━\u001b[0m \u001b[32m58.4/58.4 kB\u001b[0m \u001b[31m4.7 MB/s\u001b[0m eta \u001b[36m0:00:00\u001b[0m\n",
            "\u001b[?25hDownloading chardet-3.0.4-py2.py3-none-any.whl (133 kB)\n",
            "\u001b[2K   \u001b[90m━━━━━━━━━━━━━━━━━━━━━━━━━━━━━━━━━━━━━━━━\u001b[0m \u001b[32m133.4/133.4 kB\u001b[0m \u001b[31m10.7 MB/s\u001b[0m eta \u001b[36m0:00:00\u001b[0m\n",
            "\u001b[?25hDownloading idna-2.10-py2.py3-none-any.whl (58 kB)\n",
            "\u001b[2K   \u001b[90m━━━━━━━━━━━━━━━━━━━━━━━━━━━━━━━━━━━━━━━━\u001b[0m \u001b[32m58.8/58.8 kB\u001b[0m \u001b[31m4.5 MB/s\u001b[0m eta \u001b[36m0:00:00\u001b[0m\n",
            "\u001b[?25hDownloading urllib3-1.25.11-py2.py3-none-any.whl (127 kB)\n",
            "\u001b[2K   \u001b[90m━━━━━━━━━━━━━━━━━━━━━━━━━━━━━━━━━━━━━━━━\u001b[0m \u001b[32m128.0/128.0 kB\u001b[0m \u001b[31m9.7 MB/s\u001b[0m eta \u001b[36m0:00:00\u001b[0m\n",
            "\u001b[?25hInstalling collected packages: chardet, urllib3, idna, requests, app_store_scraper\n",
            "  Attempting uninstall: chardet\n",
            "    Found existing installation: chardet 5.2.0\n",
            "    Uninstalling chardet-5.2.0:\n",
            "      Successfully uninstalled chardet-5.2.0\n",
            "  Attempting uninstall: urllib3\n",
            "    Found existing installation: urllib3 2.2.3\n",
            "    Uninstalling urllib3-2.2.3:\n",
            "      Successfully uninstalled urllib3-2.2.3\n",
            "  Attempting uninstall: idna\n",
            "    Found existing installation: idna 3.10\n",
            "    Uninstalling idna-3.10:\n",
            "      Successfully uninstalled idna-3.10\n",
            "  Attempting uninstall: requests\n",
            "    Found existing installation: requests 2.32.3\n",
            "    Uninstalling requests-2.32.3:\n",
            "      Successfully uninstalled requests-2.32.3\n",
            "\u001b[31mERROR: pip's dependency resolver does not currently take into account all the packages that are installed. This behaviour is the source of the following dependency conflicts.\n",
            "bigframes 1.27.0 requires requests>=2.27.1, but you have requests 2.23.0 which is incompatible.\n",
            "google-colab 1.0.0 requires requests==2.32.3, but you have requests 2.23.0 which is incompatible.\n",
            "sentry-sdk 2.19.0 requires urllib3>=1.26.11, but you have urllib3 1.25.11 which is incompatible.\n",
            "sphinx 8.1.3 requires requests>=2.30.0, but you have requests 2.23.0 which is incompatible.\n",
            "tweepy 4.14.0 requires requests<3,>=2.27.0, but you have requests 2.23.0 which is incompatible.\n",
            "yfinance 0.2.50 requires requests>=2.31, but you have requests 2.23.0 which is incompatible.\u001b[0m\u001b[31m\n",
            "\u001b[0mSuccessfully installed app_store_scraper-0.3.5 chardet-3.0.4 idna-2.10 requests-2.23.0 urllib3-1.25.11\n"
          ]
        }
      ]
    },
    {
      "cell_type": "markdown",
      "source": [
        "## Import Libraries"
      ],
      "metadata": {
        "id": "MjPhA0B-f-dK"
      }
    },
    {
      "cell_type": "code",
      "source": [
        "import pandas as pd\n",
        "from app_store_scraper import AppStore\n",
        "import unicodedata"
      ],
      "metadata": {
        "id": "0WzHvQ_Lf5es"
      },
      "execution_count": 3,
      "outputs": []
    },
    {
      "cell_type": "markdown",
      "source": [
        "## Define Constants Vars"
      ],
      "metadata": {
        "id": "S2FRvq3CgLWD"
      }
    },
    {
      "cell_type": "code",
      "source": [
        "# Define constants for country, app name, and app ID\n",
        "# Change the COUNTRY_CODE, APP_NAME, and APP_ID depending on use case\n",
        "# refer to https://github.com/cowboy-bebug/app-store-scraper/blob/master/README.md for more complete docs\n",
        "\n",
        "COUNTRY_CODE = 'id'\n",
        "APP_NAME = 'identitas-kependudukan-digital'\n",
        "APP_ID = '6448944056'"
      ],
      "metadata": {
        "id": "o5wHOw4hgAF1"
      },
      "execution_count": 4,
      "outputs": []
    },
    {
      "cell_type": "markdown",
      "source": [
        "## Function to get the reviews from the App Store"
      ],
      "metadata": {
        "id": "UtheTveehaiz"
      }
    },
    {
      "cell_type": "code",
      "source": [
        "def fetch_reviews(country=COUNTRY_CODE, app_name=APP_NAME, app_id=APP_ID):\n",
        "    \"\"\"\n",
        "    Fetch reviews from the App Store.\n",
        "\n",
        "    Parameters:\n",
        "    country (str): Country code\n",
        "    app_name (str): App name\n",
        "    app_id (str): App ID\n",
        "\n",
        "    Returns:\n",
        "    list: List of reviews\n",
        "    \"\"\"\n",
        "    try:\n",
        "        scraper = AppStore(country=country, app_name=app_name, app_id=app_id)\n",
        "\n",
        "        # scraper.review(how_many = 100)\n",
        "\n",
        "        # Comment out the code below and uncomment the code above to specify how many reviews to fetch (only works in 20 increments. e.g 40, 60, etc)\n",
        "        scraper.review()\n",
        "\n",
        "        return scraper.reviews\n",
        "    except Exception as e:\n",
        "        print(f\"Error fetching reviews: {e}\")\n",
        "        return None"
      ],
      "metadata": {
        "id": "FaHOcNbghYWu"
      },
      "execution_count": 15,
      "outputs": []
    },
    {
      "cell_type": "markdown",
      "source": [
        "## Function to tidy up the fetched reviews"
      ],
      "metadata": {
        "id": "6IlyPXh5hr7c"
      }
    },
    {
      "cell_type": "code",
      "source": [
        "def tidy_reviews(reviews):\n",
        "    \"\"\"\n",
        "    Tidy reviews by selecting relevant columns.\n",
        "\n",
        "    Parameters:\n",
        "    reviews (list): List of reviews\n",
        "\n",
        "    Returns:\n",
        "    pd.DataFrame: Tidied reviews\n",
        "    \"\"\"\n",
        "    df = pd.DataFrame(reviews)\n",
        "    cleaned_df = df[['userName', 'rating', 'review', 'date']]\n",
        "    return cleaned_df"
      ],
      "metadata": {
        "id": "ku-Z6mDEht7d"
      },
      "execution_count": 9,
      "outputs": []
    },
    {
      "cell_type": "markdown",
      "source": [
        "## Funtion to clean the fetched reviews"
      ],
      "metadata": {
        "id": "oymWCEfphy_s"
      }
    },
    {
      "cell_type": "code",
      "source": [
        "def clean_text(text):\n",
        "    \"\"\"\n",
        "    Clean text data by removing accents, non-ASCII characters, and special characters.\n",
        "\n",
        "    Parameters:\n",
        "    text (str): Text data to be cleaned\n",
        "\n",
        "    Returns:\n",
        "    str: Cleaned text data\n",
        "    \"\"\"\n",
        "    # Normalize text and remove accents and non-ASCII characters\n",
        "    text = unicodedata.normalize('NFKD', text)\n",
        "    # Remove non-ASCII characters\n",
        "    text = text.encode('ascii', 'ignore').decode('utf-8')\n",
        "    # Remove special characters\n",
        "    text = text.replace('\\n', ' ').replace('\\r', ' ')\n",
        "    return text"
      ],
      "metadata": {
        "id": "B4mQR9Z8hxmL"
      },
      "execution_count": 10,
      "outputs": []
    },
    {
      "cell_type": "markdown",
      "source": [
        "## Function to export the dataframe to a csv file"
      ],
      "metadata": {
        "id": "tWXMo6G7h8Na"
      }
    },
    {
      "cell_type": "code",
      "source": [
        "# Define a function to export the DataFrame to a CSV file\n",
        "def export_to_csv(df, filename):\n",
        "    \"\"\"\n",
        "    Export the DataFrame to a CSV file.\n",
        "\n",
        "    Parameters:\n",
        "    df (pd.DataFrame): DataFrame to be exported\n",
        "    filename (str): Name of the CSV file\n",
        "\n",
        "    Returns:\n",
        "    None\n",
        "    \"\"\"\n",
        "    try:\n",
        "        df.to_csv(filename, index=False, sep=';')\n",
        "        print(f\"DataFrame exported to {filename} successfully.\")\n",
        "    except Exception as e:\n",
        "        print(f\"Error exporting DataFrame to {filename}: {e}\")"
      ],
      "metadata": {
        "id": "W4eWXQ8Sh6Zv"
      },
      "execution_count": 7,
      "outputs": []
    },
    {
      "cell_type": "markdown",
      "source": [
        "## Fetch and tidy the reviews"
      ],
      "metadata": {
        "id": "FK7eKX52iHXq"
      }
    },
    {
      "cell_type": "code",
      "source": [
        "# Fetch reviews from the App Store\n",
        "reviews = fetch_reviews()\n",
        "\n",
        "# Tidy reviews\n",
        "tidied_reviews = tidy_reviews(reviews)\n",
        "\n",
        "# Uncomment the code below to display the fetched reviews\n",
        "# tidied_reviews"
      ],
      "metadata": {
        "colab": {
          "base_uri": "https://localhost:8080/",
          "height": 444
        },
        "id": "WsZCETptiCMK",
        "outputId": "67c8a987-5096-4a41-ee2a-b251dcf6d11e"
      },
      "execution_count": 17,
      "outputs": [
        {
          "output_type": "execute_result",
          "data": {
            "text/plain": [
              "                     userName  rating  \\\n",
              "0                       APN41       3   \n",
              "1                    usergege       3   \n",
              "2   Ganti Nama, jadi entaraja       1   \n",
              "3                   Nakam2323       1   \n",
              "4                        4swu       1   \n",
              "..                        ...     ...   \n",
              "75            riyannnnnnnnnnn       3   \n",
              "76                   depopppp       2   \n",
              "77                  ibugunung       2   \n",
              "78                    Aminkuu       1   \n",
              "79                alahsiamang       1   \n",
              "\n",
              "                                               review                date  \n",
              "0   Maaf admin, sebagai masukan. \\n\\nMasalah: masi... 2023-12-14 13:31:40  \n",
              "1   Admin, mohon bantuan. saya tidak bisa buka dok... 2023-10-10 06:47:32  \n",
              "2   Seriusan apanya yang online kalo tetep disuruh... 2023-08-04 08:51:45  \n",
              "3   Katanya digital tapi masih diharuskan datang k... 2023-08-23 03:20:45  \n",
              "4   Tolong yg bener lah , masa online tapi disuruh... 2023-08-08 13:50:50  \n",
              "..                                                ...                 ...  \n",
              "75  solusi lupa pin gimana?? nggak ada pilihan unt... 2024-10-09 07:03:43  \n",
              "76  tidak bisa membuka document,loading terus pada... 2024-10-09 17:44:53  \n",
              "77  Hari ini ada petugas yang melakukan pendaftara... 2024-10-09 13:36:31  \n",
              "78  Mohon maaf pak saya mau komplain kenapa saya t... 2024-10-09 09:57:48  \n",
              "79  Mohon perbaiki, saya tidak bisa melihat Kk dig... 2024-10-09 06:53:41  \n",
              "\n",
              "[80 rows x 4 columns]"
            ],
            "text/html": [
              "\n",
              "  <div id=\"df-635f2ed0-0d5b-4446-bad5-fd9f7faebb5d\" class=\"colab-df-container\">\n",
              "    <div>\n",
              "<style scoped>\n",
              "    .dataframe tbody tr th:only-of-type {\n",
              "        vertical-align: middle;\n",
              "    }\n",
              "\n",
              "    .dataframe tbody tr th {\n",
              "        vertical-align: top;\n",
              "    }\n",
              "\n",
              "    .dataframe thead th {\n",
              "        text-align: right;\n",
              "    }\n",
              "</style>\n",
              "<table border=\"1\" class=\"dataframe\">\n",
              "  <thead>\n",
              "    <tr style=\"text-align: right;\">\n",
              "      <th></th>\n",
              "      <th>userName</th>\n",
              "      <th>rating</th>\n",
              "      <th>review</th>\n",
              "      <th>date</th>\n",
              "    </tr>\n",
              "  </thead>\n",
              "  <tbody>\n",
              "    <tr>\n",
              "      <th>0</th>\n",
              "      <td>APN41</td>\n",
              "      <td>3</td>\n",
              "      <td>Maaf admin, sebagai masukan. \\n\\nMasalah: masi...</td>\n",
              "      <td>2023-12-14 13:31:40</td>\n",
              "    </tr>\n",
              "    <tr>\n",
              "      <th>1</th>\n",
              "      <td>usergege</td>\n",
              "      <td>3</td>\n",
              "      <td>Admin, mohon bantuan. saya tidak bisa buka dok...</td>\n",
              "      <td>2023-10-10 06:47:32</td>\n",
              "    </tr>\n",
              "    <tr>\n",
              "      <th>2</th>\n",
              "      <td>Ganti Nama, jadi entaraja</td>\n",
              "      <td>1</td>\n",
              "      <td>Seriusan apanya yang online kalo tetep disuruh...</td>\n",
              "      <td>2023-08-04 08:51:45</td>\n",
              "    </tr>\n",
              "    <tr>\n",
              "      <th>3</th>\n",
              "      <td>Nakam2323</td>\n",
              "      <td>1</td>\n",
              "      <td>Katanya digital tapi masih diharuskan datang k...</td>\n",
              "      <td>2023-08-23 03:20:45</td>\n",
              "    </tr>\n",
              "    <tr>\n",
              "      <th>4</th>\n",
              "      <td>4swu</td>\n",
              "      <td>1</td>\n",
              "      <td>Tolong yg bener lah , masa online tapi disuruh...</td>\n",
              "      <td>2023-08-08 13:50:50</td>\n",
              "    </tr>\n",
              "    <tr>\n",
              "      <th>...</th>\n",
              "      <td>...</td>\n",
              "      <td>...</td>\n",
              "      <td>...</td>\n",
              "      <td>...</td>\n",
              "    </tr>\n",
              "    <tr>\n",
              "      <th>75</th>\n",
              "      <td>riyannnnnnnnnnn</td>\n",
              "      <td>3</td>\n",
              "      <td>solusi lupa pin gimana?? nggak ada pilihan unt...</td>\n",
              "      <td>2024-10-09 07:03:43</td>\n",
              "    </tr>\n",
              "    <tr>\n",
              "      <th>76</th>\n",
              "      <td>depopppp</td>\n",
              "      <td>2</td>\n",
              "      <td>tidak bisa membuka document,loading terus pada...</td>\n",
              "      <td>2024-10-09 17:44:53</td>\n",
              "    </tr>\n",
              "    <tr>\n",
              "      <th>77</th>\n",
              "      <td>ibugunung</td>\n",
              "      <td>2</td>\n",
              "      <td>Hari ini ada petugas yang melakukan pendaftara...</td>\n",
              "      <td>2024-10-09 13:36:31</td>\n",
              "    </tr>\n",
              "    <tr>\n",
              "      <th>78</th>\n",
              "      <td>Aminkuu</td>\n",
              "      <td>1</td>\n",
              "      <td>Mohon maaf pak saya mau komplain kenapa saya t...</td>\n",
              "      <td>2024-10-09 09:57:48</td>\n",
              "    </tr>\n",
              "    <tr>\n",
              "      <th>79</th>\n",
              "      <td>alahsiamang</td>\n",
              "      <td>1</td>\n",
              "      <td>Mohon perbaiki, saya tidak bisa melihat Kk dig...</td>\n",
              "      <td>2024-10-09 06:53:41</td>\n",
              "    </tr>\n",
              "  </tbody>\n",
              "</table>\n",
              "<p>80 rows × 4 columns</p>\n",
              "</div>\n",
              "    <div class=\"colab-df-buttons\">\n",
              "\n",
              "  <div class=\"colab-df-container\">\n",
              "    <button class=\"colab-df-convert\" onclick=\"convertToInteractive('df-635f2ed0-0d5b-4446-bad5-fd9f7faebb5d')\"\n",
              "            title=\"Convert this dataframe to an interactive table.\"\n",
              "            style=\"display:none;\">\n",
              "\n",
              "  <svg xmlns=\"http://www.w3.org/2000/svg\" height=\"24px\" viewBox=\"0 -960 960 960\">\n",
              "    <path d=\"M120-120v-720h720v720H120Zm60-500h600v-160H180v160Zm220 220h160v-160H400v160Zm0 220h160v-160H400v160ZM180-400h160v-160H180v160Zm440 0h160v-160H620v160ZM180-180h160v-160H180v160Zm440 0h160v-160H620v160Z\"/>\n",
              "  </svg>\n",
              "    </button>\n",
              "\n",
              "  <style>\n",
              "    .colab-df-container {\n",
              "      display:flex;\n",
              "      gap: 12px;\n",
              "    }\n",
              "\n",
              "    .colab-df-convert {\n",
              "      background-color: #E8F0FE;\n",
              "      border: none;\n",
              "      border-radius: 50%;\n",
              "      cursor: pointer;\n",
              "      display: none;\n",
              "      fill: #1967D2;\n",
              "      height: 32px;\n",
              "      padding: 0 0 0 0;\n",
              "      width: 32px;\n",
              "    }\n",
              "\n",
              "    .colab-df-convert:hover {\n",
              "      background-color: #E2EBFA;\n",
              "      box-shadow: 0px 1px 2px rgba(60, 64, 67, 0.3), 0px 1px 3px 1px rgba(60, 64, 67, 0.15);\n",
              "      fill: #174EA6;\n",
              "    }\n",
              "\n",
              "    .colab-df-buttons div {\n",
              "      margin-bottom: 4px;\n",
              "    }\n",
              "\n",
              "    [theme=dark] .colab-df-convert {\n",
              "      background-color: #3B4455;\n",
              "      fill: #D2E3FC;\n",
              "    }\n",
              "\n",
              "    [theme=dark] .colab-df-convert:hover {\n",
              "      background-color: #434B5C;\n",
              "      box-shadow: 0px 1px 3px 1px rgba(0, 0, 0, 0.15);\n",
              "      filter: drop-shadow(0px 1px 2px rgba(0, 0, 0, 0.3));\n",
              "      fill: #FFFFFF;\n",
              "    }\n",
              "  </style>\n",
              "\n",
              "    <script>\n",
              "      const buttonEl =\n",
              "        document.querySelector('#df-635f2ed0-0d5b-4446-bad5-fd9f7faebb5d button.colab-df-convert');\n",
              "      buttonEl.style.display =\n",
              "        google.colab.kernel.accessAllowed ? 'block' : 'none';\n",
              "\n",
              "      async function convertToInteractive(key) {\n",
              "        const element = document.querySelector('#df-635f2ed0-0d5b-4446-bad5-fd9f7faebb5d');\n",
              "        const dataTable =\n",
              "          await google.colab.kernel.invokeFunction('convertToInteractive',\n",
              "                                                    [key], {});\n",
              "        if (!dataTable) return;\n",
              "\n",
              "        const docLinkHtml = 'Like what you see? Visit the ' +\n",
              "          '<a target=\"_blank\" href=https://colab.research.google.com/notebooks/data_table.ipynb>data table notebook</a>'\n",
              "          + ' to learn more about interactive tables.';\n",
              "        element.innerHTML = '';\n",
              "        dataTable['output_type'] = 'display_data';\n",
              "        await google.colab.output.renderOutput(dataTable, element);\n",
              "        const docLink = document.createElement('div');\n",
              "        docLink.innerHTML = docLinkHtml;\n",
              "        element.appendChild(docLink);\n",
              "      }\n",
              "    </script>\n",
              "  </div>\n",
              "\n",
              "\n",
              "<div id=\"df-8b703a70-eb78-4adf-b4f4-d2611fce3650\">\n",
              "  <button class=\"colab-df-quickchart\" onclick=\"quickchart('df-8b703a70-eb78-4adf-b4f4-d2611fce3650')\"\n",
              "            title=\"Suggest charts\"\n",
              "            style=\"display:none;\">\n",
              "\n",
              "<svg xmlns=\"http://www.w3.org/2000/svg\" height=\"24px\"viewBox=\"0 0 24 24\"\n",
              "     width=\"24px\">\n",
              "    <g>\n",
              "        <path d=\"M19 3H5c-1.1 0-2 .9-2 2v14c0 1.1.9 2 2 2h14c1.1 0 2-.9 2-2V5c0-1.1-.9-2-2-2zM9 17H7v-7h2v7zm4 0h-2V7h2v10zm4 0h-2v-4h2v4z\"/>\n",
              "    </g>\n",
              "</svg>\n",
              "  </button>\n",
              "\n",
              "<style>\n",
              "  .colab-df-quickchart {\n",
              "      --bg-color: #E8F0FE;\n",
              "      --fill-color: #1967D2;\n",
              "      --hover-bg-color: #E2EBFA;\n",
              "      --hover-fill-color: #174EA6;\n",
              "      --disabled-fill-color: #AAA;\n",
              "      --disabled-bg-color: #DDD;\n",
              "  }\n",
              "\n",
              "  [theme=dark] .colab-df-quickchart {\n",
              "      --bg-color: #3B4455;\n",
              "      --fill-color: #D2E3FC;\n",
              "      --hover-bg-color: #434B5C;\n",
              "      --hover-fill-color: #FFFFFF;\n",
              "      --disabled-bg-color: #3B4455;\n",
              "      --disabled-fill-color: #666;\n",
              "  }\n",
              "\n",
              "  .colab-df-quickchart {\n",
              "    background-color: var(--bg-color);\n",
              "    border: none;\n",
              "    border-radius: 50%;\n",
              "    cursor: pointer;\n",
              "    display: none;\n",
              "    fill: var(--fill-color);\n",
              "    height: 32px;\n",
              "    padding: 0;\n",
              "    width: 32px;\n",
              "  }\n",
              "\n",
              "  .colab-df-quickchart:hover {\n",
              "    background-color: var(--hover-bg-color);\n",
              "    box-shadow: 0 1px 2px rgba(60, 64, 67, 0.3), 0 1px 3px 1px rgba(60, 64, 67, 0.15);\n",
              "    fill: var(--button-hover-fill-color);\n",
              "  }\n",
              "\n",
              "  .colab-df-quickchart-complete:disabled,\n",
              "  .colab-df-quickchart-complete:disabled:hover {\n",
              "    background-color: var(--disabled-bg-color);\n",
              "    fill: var(--disabled-fill-color);\n",
              "    box-shadow: none;\n",
              "  }\n",
              "\n",
              "  .colab-df-spinner {\n",
              "    border: 2px solid var(--fill-color);\n",
              "    border-color: transparent;\n",
              "    border-bottom-color: var(--fill-color);\n",
              "    animation:\n",
              "      spin 1s steps(1) infinite;\n",
              "  }\n",
              "\n",
              "  @keyframes spin {\n",
              "    0% {\n",
              "      border-color: transparent;\n",
              "      border-bottom-color: var(--fill-color);\n",
              "      border-left-color: var(--fill-color);\n",
              "    }\n",
              "    20% {\n",
              "      border-color: transparent;\n",
              "      border-left-color: var(--fill-color);\n",
              "      border-top-color: var(--fill-color);\n",
              "    }\n",
              "    30% {\n",
              "      border-color: transparent;\n",
              "      border-left-color: var(--fill-color);\n",
              "      border-top-color: var(--fill-color);\n",
              "      border-right-color: var(--fill-color);\n",
              "    }\n",
              "    40% {\n",
              "      border-color: transparent;\n",
              "      border-right-color: var(--fill-color);\n",
              "      border-top-color: var(--fill-color);\n",
              "    }\n",
              "    60% {\n",
              "      border-color: transparent;\n",
              "      border-right-color: var(--fill-color);\n",
              "    }\n",
              "    80% {\n",
              "      border-color: transparent;\n",
              "      border-right-color: var(--fill-color);\n",
              "      border-bottom-color: var(--fill-color);\n",
              "    }\n",
              "    90% {\n",
              "      border-color: transparent;\n",
              "      border-bottom-color: var(--fill-color);\n",
              "    }\n",
              "  }\n",
              "</style>\n",
              "\n",
              "  <script>\n",
              "    async function quickchart(key) {\n",
              "      const quickchartButtonEl =\n",
              "        document.querySelector('#' + key + ' button');\n",
              "      quickchartButtonEl.disabled = true;  // To prevent multiple clicks.\n",
              "      quickchartButtonEl.classList.add('colab-df-spinner');\n",
              "      try {\n",
              "        const charts = await google.colab.kernel.invokeFunction(\n",
              "            'suggestCharts', [key], {});\n",
              "      } catch (error) {\n",
              "        console.error('Error during call to suggestCharts:', error);\n",
              "      }\n",
              "      quickchartButtonEl.classList.remove('colab-df-spinner');\n",
              "      quickchartButtonEl.classList.add('colab-df-quickchart-complete');\n",
              "    }\n",
              "    (() => {\n",
              "      let quickchartButtonEl =\n",
              "        document.querySelector('#df-8b703a70-eb78-4adf-b4f4-d2611fce3650 button');\n",
              "      quickchartButtonEl.style.display =\n",
              "        google.colab.kernel.accessAllowed ? 'block' : 'none';\n",
              "    })();\n",
              "  </script>\n",
              "</div>\n",
              "\n",
              "  <div id=\"id_9582d3a1-f109-444b-ad33-36ab6fe91c82\">\n",
              "    <style>\n",
              "      .colab-df-generate {\n",
              "        background-color: #E8F0FE;\n",
              "        border: none;\n",
              "        border-radius: 50%;\n",
              "        cursor: pointer;\n",
              "        display: none;\n",
              "        fill: #1967D2;\n",
              "        height: 32px;\n",
              "        padding: 0 0 0 0;\n",
              "        width: 32px;\n",
              "      }\n",
              "\n",
              "      .colab-df-generate:hover {\n",
              "        background-color: #E2EBFA;\n",
              "        box-shadow: 0px 1px 2px rgba(60, 64, 67, 0.3), 0px 1px 3px 1px rgba(60, 64, 67, 0.15);\n",
              "        fill: #174EA6;\n",
              "      }\n",
              "\n",
              "      [theme=dark] .colab-df-generate {\n",
              "        background-color: #3B4455;\n",
              "        fill: #D2E3FC;\n",
              "      }\n",
              "\n",
              "      [theme=dark] .colab-df-generate:hover {\n",
              "        background-color: #434B5C;\n",
              "        box-shadow: 0px 1px 3px 1px rgba(0, 0, 0, 0.15);\n",
              "        filter: drop-shadow(0px 1px 2px rgba(0, 0, 0, 0.3));\n",
              "        fill: #FFFFFF;\n",
              "      }\n",
              "    </style>\n",
              "    <button class=\"colab-df-generate\" onclick=\"generateWithVariable('tidied_reviews')\"\n",
              "            title=\"Generate code using this dataframe.\"\n",
              "            style=\"display:none;\">\n",
              "\n",
              "  <svg xmlns=\"http://www.w3.org/2000/svg\" height=\"24px\"viewBox=\"0 0 24 24\"\n",
              "       width=\"24px\">\n",
              "    <path d=\"M7,19H8.4L18.45,9,17,7.55,7,17.6ZM5,21V16.75L18.45,3.32a2,2,0,0,1,2.83,0l1.4,1.43a1.91,1.91,0,0,1,.58,1.4,1.91,1.91,0,0,1-.58,1.4L9.25,21ZM18.45,9,17,7.55Zm-12,3A5.31,5.31,0,0,0,4.9,8.1,5.31,5.31,0,0,0,1,6.5,5.31,5.31,0,0,0,4.9,4.9,5.31,5.31,0,0,0,6.5,1,5.31,5.31,0,0,0,8.1,4.9,5.31,5.31,0,0,0,12,6.5,5.46,5.46,0,0,0,6.5,12Z\"/>\n",
              "  </svg>\n",
              "    </button>\n",
              "    <script>\n",
              "      (() => {\n",
              "      const buttonEl =\n",
              "        document.querySelector('#id_9582d3a1-f109-444b-ad33-36ab6fe91c82 button.colab-df-generate');\n",
              "      buttonEl.style.display =\n",
              "        google.colab.kernel.accessAllowed ? 'block' : 'none';\n",
              "\n",
              "      buttonEl.onclick = () => {\n",
              "        google.colab.notebook.generateWithVariable('tidied_reviews');\n",
              "      }\n",
              "      })();\n",
              "    </script>\n",
              "  </div>\n",
              "\n",
              "    </div>\n",
              "  </div>\n"
            ],
            "application/vnd.google.colaboratory.intrinsic+json": {
              "type": "dataframe",
              "variable_name": "tidied_reviews",
              "summary": "{\n  \"name\": \"tidied_reviews\",\n  \"rows\": 80,\n  \"fields\": [\n    {\n      \"column\": \"userName\",\n      \"properties\": {\n        \"dtype\": \"string\",\n        \"num_unique_values\": 80,\n        \"samples\": [\n          \"Calon gubernur DKI\",\n          \"APN41\",\n          \"penggunalawas22\"\n        ],\n        \"semantic_type\": \"\",\n        \"description\": \"\"\n      }\n    },\n    {\n      \"column\": \"rating\",\n      \"properties\": {\n        \"dtype\": \"number\",\n        \"std\": 1,\n        \"min\": 1,\n        \"max\": 5,\n        \"num_unique_values\": 5,\n        \"samples\": [\n          1,\n          4,\n          5\n        ],\n        \"semantic_type\": \"\",\n        \"description\": \"\"\n      }\n    },\n    {\n      \"column\": \"review\",\n      \"properties\": {\n        \"dtype\": \"string\",\n        \"num_unique_values\": 80,\n        \"samples\": [\n          \"Burukkk sekaliiii\",\n          \"Maaf admin, sebagai masukan. \\n\\nMasalah: masih ada tahapan yang mana pemohon masih harus ke kantor Dukcapil utk melakukan verifikasi barcode. \\n\\nSolusi: sekiranya tahapan verifikasi barcode pada kantor dukcapil di gantikan dengan verifikasi online menggunakan vidio interaktif dengan operator dan/atau mengirimi barcode ke email dan/atau nomer tlfn dan/atau cara lainnya yang sifatnya online\\n\\nTujuan: agar mempermudah dan efektivitas  seluruh tahapan yang dilakukan oleh pemohon dalam pengajuan Identitas Kependudukan Digital tanpa melewati prinsip kehati-hatian dan rahasia data pribadi \\n\\nHarapan: semoga seluruh produk dukcapil mengenai data diri atau identitas bisa dalam satu app atau superapps dukcapil agar terujud nya goverment yang efektif dan efisien \\n\\nTerimakasi \\ud83d\\ude4f\\ud83c\\udffb\",\n          \"Ternyata harus datang langsung ke Disdukcapil.\"\n        ],\n        \"semantic_type\": \"\",\n        \"description\": \"\"\n      }\n    },\n    {\n      \"column\": \"date\",\n      \"properties\": {\n        \"dtype\": \"date\",\n        \"min\": \"2023-06-08 00:17:16\",\n        \"max\": \"2024-12-06 06:21:27\",\n        \"num_unique_values\": 80,\n        \"samples\": [\n          \"2024-11-29 05:56:10\",\n          \"2023-12-14 13:31:40\",\n          \"2023-08-03 06:59:11\"\n        ],\n        \"semantic_type\": \"\",\n        \"description\": \"\"\n      }\n    }\n  ]\n}"
            }
          },
          "metadata": {},
          "execution_count": 17
        }
      ]
    },
    {
      "cell_type": "markdown",
      "source": [
        "## Clean Text Data and Rename Columns"
      ],
      "metadata": {
        "id": "v64PxJJsiM2L"
      }
    },
    {
      "cell_type": "code",
      "source": [
        "# Clean text data\n",
        "tidied_reviews.loc[:, 'review'] = tidied_reviews['review'].apply(clean_text)\n",
        "\n",
        "# Rename columns for better readability\n",
        "tidied_reviews.columns = ['User Name', 'Rating', 'Review', 'Waktu Upload']"
      ],
      "metadata": {
        "id": "UmP961YhiLf0"
      },
      "execution_count": 12,
      "outputs": []
    },
    {
      "cell_type": "markdown",
      "source": [
        "## Export to CSV"
      ],
      "metadata": {
        "id": "0fCMhWJhiS9u"
      }
    },
    {
      "cell_type": "code",
      "source": [
        "# Export the tidied reviews to a CSV file\n",
        "export_to_csv(tidied_reviews, 'Apple_App_Store_Reviews.csv')"
      ],
      "metadata": {
        "colab": {
          "base_uri": "https://localhost:8080/"
        },
        "id": "kTivqplriO3U",
        "outputId": "804650a2-7704-45cb-a171-90ca44742991"
      },
      "execution_count": 13,
      "outputs": [
        {
          "output_type": "stream",
          "name": "stdout",
          "text": [
            "DataFrame exported to Apple_App_Store_Reviews.csv successfully.\n"
          ]
        }
      ]
    },
    {
      "cell_type": "code",
      "source": [],
      "metadata": {
        "id": "Y-wrblMCiRWh"
      },
      "execution_count": null,
      "outputs": []
    }
  ]
}