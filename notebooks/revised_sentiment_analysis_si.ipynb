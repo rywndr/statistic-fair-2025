{
  "nbformat": 4,
  "nbformat_minor": 0,
  "metadata": {
    "colab": {
      "provenance": []
    },
    "kernelspec": {
      "name": "python3",
      "display_name": "Python 3"
    },
    "language_info": {
      "name": "python"
    }
  },
  "cells": [
    {
      "cell_type": "markdown",
      "source": [
        "## Install Required Libraries"
      ],
      "metadata": {
        "id": "8dTKjgnmPra6"
      }
    },
    {
      "cell_type": "code",
      "execution_count": 54,
      "metadata": {
        "id": "lIlx1ZBwM1h2"
      },
      "outputs": [],
      "source": [
        "pip install pandas nltk textblob transformers matplotlib googletrans==4.0.0-rc1 --quiet"
      ]
    },
    {
      "cell_type": "markdown",
      "source": [
        "## Import Libraries"
      ],
      "metadata": {
        "id": "a0ovnyIrPnpy"
      }
    },
    {
      "cell_type": "code",
      "source": [
        "import pandas as pd\n",
        "import nltk\n",
        "from nltk.tokenize import word_tokenize\n",
        "from textblob import TextBlob\n",
        "from transformers import pipeline\n",
        "import matplotlib.pyplot as plt\n",
        "from google.colab import files\n",
        "from googletrans import Translator"
      ],
      "metadata": {
        "id": "Tb5ybdCkM9Wf"
      },
      "execution_count": 55,
      "outputs": []
    },
    {
      "cell_type": "markdown",
      "source": [
        "## Download Necessary NLTK Data"
      ],
      "metadata": {
        "id": "355sj2B-PmAk"
      }
    },
    {
      "cell_type": "code",
      "source": [
        "nltk.download('punkt_tab')"
      ],
      "metadata": {
        "colab": {
          "base_uri": "https://localhost:8080/"
        },
        "id": "k9pYgRFoNHu3",
        "outputId": "19171159-c4a9-4ca7-8ae9-05dc3e0a1af5"
      },
      "execution_count": 56,
      "outputs": [
        {
          "output_type": "stream",
          "name": "stderr",
          "text": [
            "[nltk_data] Downloading package punkt_tab to /root/nltk_data...\n",
            "[nltk_data]   Package punkt_tab is already up-to-date!\n"
          ]
        },
        {
          "output_type": "execute_result",
          "data": {
            "text/plain": [
              "True"
            ]
          },
          "metadata": {},
          "execution_count": 56
        }
      ]
    },
    {
      "cell_type": "markdown",
      "source": [
        "## Upload Dataset\n",
        "\n",
        "id:\n",
        "Upload dataset dari pc ke google colab\n",
        "\n",
        "en:\n"
      ],
      "metadata": {
        "id": "KsrptsdxPj0y"
      }
    },
    {
      "cell_type": "code",
      "source": [
        "uploaded = files.upload()\n",
        "file_path = list(uploaded.keys())[0]\n",
        "print(f\"Dataset uploaded as: {file_path}\")"
      ],
      "metadata": {
        "colab": {
          "base_uri": "https://localhost:8080/",
          "height": 111
        },
        "id": "toX6vZmeNQK_",
        "outputId": "6bf13189-2441-4468-dd5c-63d6f53f68cf"
      },
      "execution_count": 57,
      "outputs": [
        {
          "output_type": "display_data",
          "data": {
            "text/plain": [
              "<IPython.core.display.HTML object>"
            ],
            "text/html": [
              "\n",
              "     <input type=\"file\" id=\"files-25ee444a-10a5-48a3-beb3-025ca84569ef\" name=\"files[]\" multiple disabled\n",
              "        style=\"border:none\" />\n",
              "     <output id=\"result-25ee444a-10a5-48a3-beb3-025ca84569ef\">\n",
              "      Upload widget is only available when the cell has been executed in the\n",
              "      current browser session. Please rerun this cell to enable.\n",
              "      </output>\n",
              "      <script>// Copyright 2017 Google LLC\n",
              "//\n",
              "// Licensed under the Apache License, Version 2.0 (the \"License\");\n",
              "// you may not use this file except in compliance with the License.\n",
              "// You may obtain a copy of the License at\n",
              "//\n",
              "//      http://www.apache.org/licenses/LICENSE-2.0\n",
              "//\n",
              "// Unless required by applicable law or agreed to in writing, software\n",
              "// distributed under the License is distributed on an \"AS IS\" BASIS,\n",
              "// WITHOUT WARRANTIES OR CONDITIONS OF ANY KIND, either express or implied.\n",
              "// See the License for the specific language governing permissions and\n",
              "// limitations under the License.\n",
              "\n",
              "/**\n",
              " * @fileoverview Helpers for google.colab Python module.\n",
              " */\n",
              "(function(scope) {\n",
              "function span(text, styleAttributes = {}) {\n",
              "  const element = document.createElement('span');\n",
              "  element.textContent = text;\n",
              "  for (const key of Object.keys(styleAttributes)) {\n",
              "    element.style[key] = styleAttributes[key];\n",
              "  }\n",
              "  return element;\n",
              "}\n",
              "\n",
              "// Max number of bytes which will be uploaded at a time.\n",
              "const MAX_PAYLOAD_SIZE = 100 * 1024;\n",
              "\n",
              "function _uploadFiles(inputId, outputId) {\n",
              "  const steps = uploadFilesStep(inputId, outputId);\n",
              "  const outputElement = document.getElementById(outputId);\n",
              "  // Cache steps on the outputElement to make it available for the next call\n",
              "  // to uploadFilesContinue from Python.\n",
              "  outputElement.steps = steps;\n",
              "\n",
              "  return _uploadFilesContinue(outputId);\n",
              "}\n",
              "\n",
              "// This is roughly an async generator (not supported in the browser yet),\n",
              "// where there are multiple asynchronous steps and the Python side is going\n",
              "// to poll for completion of each step.\n",
              "// This uses a Promise to block the python side on completion of each step,\n",
              "// then passes the result of the previous step as the input to the next step.\n",
              "function _uploadFilesContinue(outputId) {\n",
              "  const outputElement = document.getElementById(outputId);\n",
              "  const steps = outputElement.steps;\n",
              "\n",
              "  const next = steps.next(outputElement.lastPromiseValue);\n",
              "  return Promise.resolve(next.value.promise).then((value) => {\n",
              "    // Cache the last promise value to make it available to the next\n",
              "    // step of the generator.\n",
              "    outputElement.lastPromiseValue = value;\n",
              "    return next.value.response;\n",
              "  });\n",
              "}\n",
              "\n",
              "/**\n",
              " * Generator function which is called between each async step of the upload\n",
              " * process.\n",
              " * @param {string} inputId Element ID of the input file picker element.\n",
              " * @param {string} outputId Element ID of the output display.\n",
              " * @return {!Iterable<!Object>} Iterable of next steps.\n",
              " */\n",
              "function* uploadFilesStep(inputId, outputId) {\n",
              "  const inputElement = document.getElementById(inputId);\n",
              "  inputElement.disabled = false;\n",
              "\n",
              "  const outputElement = document.getElementById(outputId);\n",
              "  outputElement.innerHTML = '';\n",
              "\n",
              "  const pickedPromise = new Promise((resolve) => {\n",
              "    inputElement.addEventListener('change', (e) => {\n",
              "      resolve(e.target.files);\n",
              "    });\n",
              "  });\n",
              "\n",
              "  const cancel = document.createElement('button');\n",
              "  inputElement.parentElement.appendChild(cancel);\n",
              "  cancel.textContent = 'Cancel upload';\n",
              "  const cancelPromise = new Promise((resolve) => {\n",
              "    cancel.onclick = () => {\n",
              "      resolve(null);\n",
              "    };\n",
              "  });\n",
              "\n",
              "  // Wait for the user to pick the files.\n",
              "  const files = yield {\n",
              "    promise: Promise.race([pickedPromise, cancelPromise]),\n",
              "    response: {\n",
              "      action: 'starting',\n",
              "    }\n",
              "  };\n",
              "\n",
              "  cancel.remove();\n",
              "\n",
              "  // Disable the input element since further picks are not allowed.\n",
              "  inputElement.disabled = true;\n",
              "\n",
              "  if (!files) {\n",
              "    return {\n",
              "      response: {\n",
              "        action: 'complete',\n",
              "      }\n",
              "    };\n",
              "  }\n",
              "\n",
              "  for (const file of files) {\n",
              "    const li = document.createElement('li');\n",
              "    li.append(span(file.name, {fontWeight: 'bold'}));\n",
              "    li.append(span(\n",
              "        `(${file.type || 'n/a'}) - ${file.size} bytes, ` +\n",
              "        `last modified: ${\n",
              "            file.lastModifiedDate ? file.lastModifiedDate.toLocaleDateString() :\n",
              "                                    'n/a'} - `));\n",
              "    const percent = span('0% done');\n",
              "    li.appendChild(percent);\n",
              "\n",
              "    outputElement.appendChild(li);\n",
              "\n",
              "    const fileDataPromise = new Promise((resolve) => {\n",
              "      const reader = new FileReader();\n",
              "      reader.onload = (e) => {\n",
              "        resolve(e.target.result);\n",
              "      };\n",
              "      reader.readAsArrayBuffer(file);\n",
              "    });\n",
              "    // Wait for the data to be ready.\n",
              "    let fileData = yield {\n",
              "      promise: fileDataPromise,\n",
              "      response: {\n",
              "        action: 'continue',\n",
              "      }\n",
              "    };\n",
              "\n",
              "    // Use a chunked sending to avoid message size limits. See b/62115660.\n",
              "    let position = 0;\n",
              "    do {\n",
              "      const length = Math.min(fileData.byteLength - position, MAX_PAYLOAD_SIZE);\n",
              "      const chunk = new Uint8Array(fileData, position, length);\n",
              "      position += length;\n",
              "\n",
              "      const base64 = btoa(String.fromCharCode.apply(null, chunk));\n",
              "      yield {\n",
              "        response: {\n",
              "          action: 'append',\n",
              "          file: file.name,\n",
              "          data: base64,\n",
              "        },\n",
              "      };\n",
              "\n",
              "      let percentDone = fileData.byteLength === 0 ?\n",
              "          100 :\n",
              "          Math.round((position / fileData.byteLength) * 100);\n",
              "      percent.textContent = `${percentDone}% done`;\n",
              "\n",
              "    } while (position < fileData.byteLength);\n",
              "  }\n",
              "\n",
              "  // All done.\n",
              "  yield {\n",
              "    response: {\n",
              "      action: 'complete',\n",
              "    }\n",
              "  };\n",
              "}\n",
              "\n",
              "scope.google = scope.google || {};\n",
              "scope.google.colab = scope.google.colab || {};\n",
              "scope.google.colab._files = {\n",
              "  _uploadFiles,\n",
              "  _uploadFilesContinue,\n",
              "};\n",
              "})(self);\n",
              "</script> "
            ]
          },
          "metadata": {}
        },
        {
          "output_type": "stream",
          "name": "stdout",
          "text": [
            "Saving Apple_App_Store_Reviews.csv to Apple_App_Store_Reviews (2).csv\n",
            "Dataset uploaded as: Apple_App_Store_Reviews (2).csv\n"
          ]
        }
      ]
    },
    {
      "cell_type": "markdown",
      "source": [
        "## Load Dataset\n",
        "\n",
        "id:\n",
        "Membaca dataset yang sudah di upload menggunakan pandas\n",
        "\n",
        "en:\n"
      ],
      "metadata": {
        "id": "_g0sL8O_Phvg"
      }
    },
    {
      "cell_type": "code",
      "source": [
        "df = pd.read_csv(file_path, sep=';', na_filter=False)\n",
        "df = df[df['Review'].notna() & (df['Review'] != '')]\n",
        "print(df.head())"
      ],
      "metadata": {
        "colab": {
          "base_uri": "https://localhost:8080/"
        },
        "id": "Iwcm2n3HNUrU",
        "outputId": "c2e69b41-7ae4-4486-8be6-906030f42fa9"
      },
      "execution_count": 58,
      "outputs": [
        {
          "output_type": "stream",
          "name": "stdout",
          "text": [
            "                   User Name Rating  \\\n",
            "0                      APN41      3   \n",
            "1                   usergege      3   \n",
            "2  Ganti Nama, jadi entaraja      1   \n",
            "3                  Nakam2323      1   \n",
            "4                       4swu      1   \n",
            "\n",
            "                                              Review      Waktu Upload  \n",
            "0  Maaf admin, sebagai masukan.   Masalah: masih ...  14/12/2023 13.31  \n",
            "1  Admin, mohon bantuan. saya tidak bisa buka dok...  10/10/2023 06.47  \n",
            "2  Seriusan apanya yang online kalo tetep disuruh...  04/08/2023 08.51  \n",
            "3  Katanya digital tapi masih diharuskan datang k...  23/08/2023 03.20  \n",
            "4  ini serius?, online tapi disuruh dateng ke kan...  08/08/2023 13.50  \n"
          ]
        }
      ]
    },
    {
      "cell_type": "markdown",
      "source": [
        "## Define Slang and Normalization Dictionary\n",
        "\n",
        "id:\n",
        "Mendefinisikan dictionary untuk slang dan kata kata yang tidak biasa\n",
        "\n",
        "en:"
      ],
      "metadata": {
        "id": "AtiWbKKSPc8R"
      }
    },
    {
      "cell_type": "code",
      "source": [
        "slang_dict = {\n",
        "  \"lama\": \"membutuhkan waktu loading yang lama\",\n",
        "  \"based\": \"berbasis\",\n",
        "  \"apbn\": \"anggaran pendapatan dan belanja negara\",\n",
        "  \"pakai\": \"menggunakan\",\n",
        "  \"bikin\": \"membuat\",\n",
        "  \"tolong\": \"harap\",\n",
        "  \"yg\": \"yang\",\n",
        "  \"coba\": \"saya sarankan\",\n",
        "  \"agar\": \"untuk\",\n",
        "  \"gabisa\": \"tidak bisa\",\n",
        "  \"kebagusan\": \"terlalu buruk\",\n",
        "  \"terimaksih\": \"\",\n",
        "  \"utk\": \"untuk\",\n",
        "  \"terujud\": \"terwujud\",\n",
        "  \"mantapp\": \"bagus\",\n",
        "  \"mantaaap\": \"bagus\",\n",
        "  \"terimakasi\": \"\",\n",
        "  \"kehati-hatian\": \"hati-hati\",\n",
        "  \"vidio\": \"video\",\n",
        "  \"tlfn\": \"telefon\",\n",
        "  \"dan/atau\": \"dan\",\n",
        "  \"sya\": \"saya\",\n",
        "  \"trus\": \"terus\",\n",
        "  \"uninstal\": \"uninstall\",\n",
        "  \"apanya\": \"apa\",\n",
        "  \"katanya\": \"\",\n",
        "  \"diharuskan\": \"harus\",\n",
        "  \"qr\": \"kode qr\",\n",
        "  \"qrnya\": \"kode qr\",\n",
        "  \"elit\": \"bad\",\n",
        "  \"gw\": \"saya\",\n",
        "  \"ngempanin\": \"mengurusi\",\n",
        "  \"orang2\": \"orang\",\n",
        "  \"tolol\": \"bodoh\",\n",
        "  \"yg\": \"yang\",\n",
        "  \"dukcapil\": \"dinas kependudukan dan pencatatan sipil\",\n",
        "  \"katanya\": \"tertera\",\n",
        "  \"lah\": \"\",\n",
        "  \"lawak\": \"\",\n",
        "  \"min\": \"admin\",\n",
        "  \"sebelom\": \"sebelum\",\n",
        "  \"nipu\": \"menipu\",\n",
        "  \"ngerasa\": \"merasa\",\n",
        "  \"ngejual\": \"menjual\",\n",
        "  \"nyesal\": \"menyesal\",\n",
        "  \"nomer\": \"nomor\",\n",
        "  \"sdg\": \"sedang\",\n",
        "  \"laen\": \"lain\",\n",
        "  \"hnya\": \"hanya\",\n",
        "  \"tdak\": \"tidak\",\n",
        "  \"mmbantu\": \"membantu\",\n",
        "  \"sngat\": \"sangat\",\n",
        "  \"support2\": \"support\",\n",
        "  \"apk\": \"aplikasi\",\n",
        "  \"eh\": \"\",\n",
        "  \"utk\": \"untuk\",\n",
        "  \"ujung2nya\": \"akhirnya\",\n",
        "  \"woii\": \"\",\n",
        "  \"klean\": \"kalian\",\n",
        "  \"lah\": \"\",\n",
        "  \"taek\": \"tidak bagus\",\n",
        "  \"konoha\": \"indonesia\",\n",
        "  \"gk\": \"tidak\",\n",
        "  \"naik2in\": \"naikin\",\n",
        "  \"ndasmu\": \"tidak benar\",\n",
        "  \"kalo\": \"kalau\",\n",
        "  \"jargon\": \"sebutan\",\n",
        "  \"gabisa\": \"tidak bisa\",\n",
        "  \"ente\": \"anda\",\n",
        "  \"aje\": \"aja\",\n",
        "  \"rese\": \"menyebalkan\",\n",
        "  \"bgt\": \"banget\",\n",
        "  \"pls\": \"\",\n",
        "  \"bbrp\": \"beberapa\",\n",
        "  \"lbh\": \"lebih\",\n",
        "  \"disdukcapil\": \"dinas kependudukan dan pencatatan sipil\",\n",
        "  \"dupcapil\": \"dinas kependudukan dan pencatatan sipil\",\n",
        "  \"tp\": \"tapi\",\n",
        "  \"lg\": \"lagi\",\n",
        "  \"hp\": \"smartphone\",\n",
        "  \"gobloggggg\": \"bodoh\",\n",
        "  \"biat\": \"buat\",\n",
        "  \"jutek\": \"tidak peduli\",\n",
        "  \"molorrrr anjinhh\": \"\",\n",
        "  \"klo\": \"kalau\",\n",
        "  \"Burukkk sekaliiii\": \"sangat buruk\",\n",
        "  \"memperibet\": \"membuat susah\",\n",
        "  \"isapan jempol\": \"tidak benar\",\n",
        "  \"menghandle\": \"handle\",\n",
        "  \"eror\": \"error\",\n",
        "  \"k\": \"ke\",\n",
        "  \"dr\": \"dari\",\n",
        "  \"kepemerintahan\": \"pemerintah\",\n",
        "  \"sm\": \"sama\",\n",
        "  \"udh\": \"udah\",\n",
        "  \"smoga\": \"semoga\",\n",
        "  \"gabisa\": \"tidak bisa\",\n",
        "  \"clos\": \"close\",\n",
        "  \"jau\": \"jauh\",\n",
        "  \"gaptek\": \"tidak mengerti teknologi\",\n",
        "  \"menyayangkan\": \"sangat disayangkan\",\n",
        "  \"normal2\": \"normal\",\n",
        "  \"progres\": \"kemajuan\",\n",
        "  \"sosoan\": \"bergaya\",\n",
        "  \"suart\": \"surat\",\n",
        "  \"ma\": \"\",\n",
        "  \"vc\": \"video call\",\n",
        "  \"cs\": \"customer support\",\n",
        "  \"onlen\": \"online\",\n",
        "  \"ngundang\": \"mengundang\",\n",
        "  \"tu\": \"itu\",\n",
        "  \"mksudnya\": \"maksudnya\",\n",
        "  \"biat\": \"buat\",\n",
        "  \"jutek\": \"cuek\",\n",
        "  \"u\": \"anda\",\n",
        "  \"gmn\": \"gimana\",\n",
        "  \"dtg\": \"datang\",\n",
        "  \"ttp\": \"tetap\",\n",
        "  \"d\": \"di\",\n",
        "  \"kebuk\": \"di buka\",\n",
        "  \"load\": \"loading\",\n",
        "  \"dokumenya\": \"dokumennya\",\n",
        "  \"ngak\": \"tidak\",\n",
        "  \"masa\": \"\",\n",
        "  \"ngecek\": \"check\",\n",
        "  \"bener\": \"benar\",\n",
        "  \"it\": \"developer\",\n",
        "}"
      ],
      "metadata": {
        "id": "aOhQLMrMNZHH"
      },
      "execution_count": 59,
      "outputs": []
    },
    {
      "cell_type": "markdown",
      "source": [
        "## Normalize Text Function\n",
        "\n",
        "id:\n",
        "Function untuk menormalisasikan kata-kata yang tidak biasa digunakan menjadi kata-kata yang biasa digunakan menggunakan dictionary yang sudah ditentukan. Penting untuk menerjemahkan reviews ke bahasa inggris untuk di analisis sentimen dari para pengguna\n",
        "\n",
        "en:\n"
      ],
      "metadata": {
        "id": "_29pxEAxPaYk"
      }
    },
    {
      "cell_type": "code",
      "source": [
        "def normalize_text(text):\n",
        "    \"\"\"\n",
        "    Normalize text by expanding slang dictionary.\n",
        "\n",
        "    Args:\n",
        "    text (str): Input text to be normalized.\n",
        "\n",
        "    Returns:\n",
        "    str: Normalized text.\n",
        "    \"\"\"\n",
        "    if isinstance(text, str):\n",
        "        tokens = word_tokenize(text.lower())\n",
        "        normalized_tokens = [slang_dict.get(word, word) for word in tokens]\n",
        "        return ' '.join(normalized_tokens)\n",
        "    else:\n",
        "        text = str(text)\n",
        "        tokens = word_tokenize(text.lower())\n",
        "        normalized_tokens = [slang_dict.get(word, word) for word in tokens]\n",
        "        return ' '.join(normalized_tokens)\n"
      ],
      "metadata": {
        "id": "d6S5DzdNNd0_"
      },
      "execution_count": 60,
      "outputs": []
    },
    {
      "cell_type": "markdown",
      "source": [
        "## Apply Normalization to Reviews\n",
        "\n",
        "id:\n",
        "Menormalisasikan reviews dari slang dan singkatan bahasa indonesia dan menampilkan hasilnya\n",
        "\n",
        "en:\n"
      ],
      "metadata": {
        "id": "lZ6nyPzwPXJo"
      }
    },
    {
      "cell_type": "code",
      "source": [
        "df['Normalized_Review'] = df['Review'].apply(normalize_text)\n",
        "\n",
        "# pd.set_option('display.max_rows', None)\n",
        "# pd.set_option('display.max_columns', None)\n",
        "# pd.set_option('display.width', None)\n",
        "# print(df[['Review', 'Normalized_Review']])\n",
        "\n",
        "# Comment the line below and uncomment the 4 lines above to see the entire comparison\n",
        "print(df[['Review', 'Normalized_Review']].head())"
      ],
      "metadata": {
        "colab": {
          "base_uri": "https://localhost:8080/"
        },
        "id": "Oz5UIYpwNipb",
        "outputId": "4b0d6910-3b36-46c5-963c-bea7c7017280"
      },
      "execution_count": 61,
      "outputs": [
        {
          "output_type": "stream",
          "name": "stdout",
          "text": [
            "                                              Review  \\\n",
            "0  Maaf admin, sebagai masukan.   Masalah: masih ...   \n",
            "1  Admin, mohon bantuan. saya tidak bisa buka dok...   \n",
            "2  Seriusan apanya yang online kalo tetep disuruh...   \n",
            "3  Katanya digital tapi masih diharuskan datang k...   \n",
            "4  ini serius?, online tapi disuruh dateng ke kan...   \n",
            "\n",
            "                                   Normalized_Review  \n",
            "0  maaf admin , sebagai masukan . masalah : masih...  \n",
            "1  admin , mohon bantuan . saya tidak bisa buka d...  \n",
            "2  seriusan apa yang online kalau tetep disuruh d...  \n",
            "3  tertera digital tapi masih harus datang ke din...  \n",
            "4  ini serius ? , online tapi disuruh dateng ke k...  \n"
          ]
        }
      ]
    },
    {
      "cell_type": "markdown",
      "source": [
        "## Translate Text Function\n",
        "\n",
        "id:\n",
        "Function untuk menerjemahkan teks dari bahasa Indonesia ke bahasa Inggris menggunakan Google Translate.\n",
        "\n",
        "en:"
      ],
      "metadata": {
        "id": "gD6U-yOEPUjA"
      }
    },
    {
      "cell_type": "code",
      "source": [
        "def translate_with_google(text):\n",
        "    \"\"\"\n",
        "    Translate text from Indonesian to English using Google Translate.\n",
        "\n",
        "    Args:\n",
        "    text (str): Input text to be translated.\n",
        "\n",
        "    Returns:\n",
        "    str: Translated text.\n",
        "    \"\"\"\n",
        "    try:\n",
        "        translator = Translator()\n",
        "        return translator.translate(text, src='id', dest='en').text\n",
        "    except Exception as e:\n",
        "        return f\"Translation Failed: {text}\""
      ],
      "metadata": {
        "id": "Gv5vMYvWNlyZ"
      },
      "execution_count": 62,
      "outputs": []
    },
    {
      "cell_type": "markdown",
      "source": [
        "## Apply Translation to Normalized Reviews\n",
        "\n",
        "id:\n",
        "Menterjemahkan reviews yang telah di normalisasi dan menampilkan hasilnya\n",
        "\n",
        "en:\n"
      ],
      "metadata": {
        "id": "dPfYM8qFPPYw"
      }
    },
    {
      "cell_type": "code",
      "source": [
        "df['Translated_Review'] = df['Normalized_Review'].apply(translate_with_google)\n",
        "\n",
        "# pd.set_option('display.max_rows', None)\n",
        "# pd.set_option('display.max_columns', None)\n",
        "# pd.set_option('display.width', None)\n",
        "# print(df[['Normalized_Review', 'Translated_Review']])\n",
        "\n",
        "# Comment the line below and uncomment the 4 lines above to see the entire comparison between the normalized and translated reviews\n",
        "print(df[['Normalized_Review', 'Translated_Review']].head())"
      ],
      "metadata": {
        "colab": {
          "base_uri": "https://localhost:8080/"
        },
        "id": "5VxmLA4bN51i",
        "outputId": "8ef9c1c1-26f0-4239-c8c6-f005a81f5c05"
      },
      "execution_count": 63,
      "outputs": [
        {
          "output_type": "stream",
          "name": "stdout",
          "text": [
            "                                   Normalized_Review  \\\n",
            "0  maaf admin , sebagai masukan . masalah : masih...   \n",
            "1  admin , mohon bantuan . saya tidak bisa buka d...   \n",
            "2  seriusan apa yang online kalau tetep disuruh d...   \n",
            "3  tertera digital tapi masih harus datang ke din...   \n",
            "4  ini serius ? , online tapi disuruh dateng ke k...   \n",
            "\n",
            "                                   Translated_Review  \n",
            "0  sorry admin, as input.Problem: There are still...  \n",
            "1  Admin, please help.I can't open my population ...  \n",
            "2  Seriously what is online if you are told to co...  \n",
            "3  Digital listed but still have to come to the P...  \n",
            "4  This is serious ?, online but told to come to ...  \n"
          ]
        }
      ]
    },
    {
      "cell_type": "markdown",
      "source": [
        "## Sentiment Analysis Function\n",
        "\n",
        "id:\n",
        "Membuat sebuah fungsi untuk menganalisis sentimen dari review yang telah diterjemahkan menggunakan Large Language Model (LLM)\n",
        "\n",
        "en:\n"
      ],
      "metadata": {
        "id": "D41v_xn7PM2t"
      }
    },
    {
      "cell_type": "code",
      "source": [
        "def analyze_sentiment_with_neutral(text):\n",
        "    \"\"\"\n",
        "    Analyze sentiment of text using a pre-trained model.\n",
        "\n",
        "    Args:\n",
        "    text (str): Input text to be analyzed.\n",
        "\n",
        "    Returns:\n",
        "    str: Sentiment label (Positif, Netral, Negatif).\n",
        "    \"\"\"\n",
        "    try:\n",
        "        sentiment_model = pipeline(\"sentiment-analysis\", model=\"cardiffnlp/twitter-roberta-base-sentiment\")\n",
        "        result = sentiment_model(text)\n",
        "        label = result[0]['label']\n",
        "        if label == \"LABEL_2\":\n",
        "            return \"Positif\"\n",
        "        elif label == \"LABEL_1\":\n",
        "            return \"Netral\"\n",
        "        elif label == \"LABEL_0\":\n",
        "            return \"Negatif\"\n",
        "    except Exception as e:\n",
        "        return \"Error\""
      ],
      "metadata": {
        "id": "o8FZ56ouN8Kp"
      },
      "execution_count": 64,
      "outputs": []
    },
    {
      "cell_type": "markdown",
      "source": [
        "## Apply Sentiment Analysis to Dataset\n",
        "\n",
        "id:\n",
        "Menerapkan fungsi sentiment analysis untuk menganalisis apakah sentimen dari suatu review itu positif, negatif, atau netral ke data yang sudah diterjemahkan dan menampilkan hasilnya.\n",
        "\n",
        "en:\n"
      ],
      "metadata": {
        "id": "5qAlGP0DPF2y"
      }
    },
    {
      "cell_type": "code",
      "source": [
        "df['Review_Sentiment'] = df['Translated_Review'].apply(analyze_sentiment_with_neutral)\n",
        "print(df[['Translated_Review', 'Review_Sentiment']].head())"
      ],
      "metadata": {
        "colab": {
          "base_uri": "https://localhost:8080/"
        },
        "id": "ovPkf15oOYwb",
        "outputId": "7d91d0fa-085a-4ce9-be4d-d7cf92d46e78"
      },
      "execution_count": 65,
      "outputs": [
        {
          "output_type": "stream",
          "name": "stdout",
          "text": [
            "                                   Translated_Review Review_Sentiment\n",
            "0  sorry admin, as input.Problem: There are still...           Netral\n",
            "1  Admin, please help.I can't open my population ...          Negatif\n",
            "2  Seriously what is online if you are told to co...          Negatif\n",
            "3  Digital listed but still have to come to the P...           Netral\n",
            "4  This is serious ?, online but told to come to ...          Negatif\n"
          ]
        }
      ]
    },
    {
      "cell_type": "markdown",
      "source": [
        "## Plot Sentiment Distribution\n",
        "\n",
        "id:\n",
        "Men-generate sebuah grafik pie chart yang dapat menampilkan distribusi sentimen dari data yang telah dianalisis\n",
        "\n",
        "en:\n"
      ],
      "metadata": {
        "id": "tyANA0LROytk"
      }
    },
    {
      "cell_type": "markdown",
      "source": [],
      "metadata": {
        "id": "l-T49cBjleGS"
      }
    },
    {
      "cell_type": "code",
      "source": [
        "review_sentiment_counts = df['Review_Sentiment'].value_counts()\n",
        "sentiments = review_sentiment_counts.index\n",
        "counts = review_sentiment_counts.values\n",
        "\n",
        "colors = ['#FF6F61', '#6A5ACD', '#FFD700']\n",
        "explode = [0.1 if sentiment == 'Negatif' else 0 for sentiment in sentiments]\n",
        "\n",
        "plt.figure(figsize=(10, 10))\n",
        "wedges, texts, autotexts = plt.pie(\n",
        "  counts,\n",
        "  labels=sentiments,\n",
        "  autopct='%1.1f%%',\n",
        "  startangle=90,\n",
        "  colors=colors,\n",
        "  explode=explode,\n",
        "  shadow=True,\n",
        "  textprops={'fontsize': 12, 'color': 'black'}\n",
        ")\n",
        "\n",
        "# Change title according to use case\n",
        "plt.title(\"Analisis Sentimen Pengguna Aplikasi \\nIdentitas Kependudukan Digital Platform iOS\", fontsize=16, fontweight='bold', pad=20)\n",
        "plt.legend(wedges, [f\"{sent} ({count}) ({color})\" for sent, count, color in zip(sentiments, counts, colors)],\n",
        "           title=\"Sentiment Legend\", loc=\"upper left\", bbox_to_anchor=(1, 0.8))\n",
        "plt.tight_layout()\n",
        "plt.show()"
      ],
      "metadata": {
        "colab": {
          "base_uri": "https://localhost:8080/",
          "height": 878
        },
        "id": "OuoRYqSGOajj",
        "outputId": "859872c1-6ee1-4b01-b03f-8b3469afcf41"
      },
      "execution_count": 67,
      "outputs": [
        {
          "output_type": "display_data",
          "data": {
            "text/plain": [
              "<Figure size 1000x1000 with 1 Axes>"
            ],
            "image/png": "[encoded data removed]"
          },
          "metadata": {}
        }
      ]
    },
    {
      "cell_type": "code",
      "source": [],
      "metadata": {
        "id": "eAbOAYRKO2os"
      },
      "execution_count": null,
      "outputs": []
    }
  ]
}